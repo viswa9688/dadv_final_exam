{
 "cells": [
  {
   "cell_type": "code",
   "execution_count": 1,
   "metadata": {},
   "outputs": [
    {
     "data": {
      "text/plain": [
       "['ABBV', 'CTLT', 'JNJ', 'LLY', 'MRK', 'PRGO', 'PFE', 'VTRS', 'ZTS']"
      ]
     },
     "execution_count": 1,
     "metadata": {},
     "output_type": "execute_result"
    }
   ],
   "source": [
    "import bs4 as bs\n",
    "import requests\n",
    "import pandas as pd\n",
    " \n",
    "def save_sp500_tickers(selectedsector):\n",
    "    resp = requests.get('http://en.wikipedia.org/wiki/List_of_S%26P_500_companies')\n",
    "    soup = bs.BeautifulSoup(resp.text, 'lxml')\n",
    "    table = soup.find('table', {'class': 'wikitable sortable'})\n",
    "\n",
    "    tickers = []\n",
    "    industries = []\n",
    "\n",
    "    for row in table.findAll('tr')[1:]:\n",
    "            ticker = row.findAll('td')[0].text\n",
    "            industry = row.findAll('td')[4].text\n",
    "\n",
    "            tickers.append(ticker)\n",
    "            industries.append(industry)\n",
    "\n",
    "    tickers = list(map(lambda s: s.strip(), tickers))\n",
    "    industries = list(map(lambda s: s.strip(), industries))\n",
    "\n",
    "    tickerdf = pd.DataFrame(tickers,columns=['ticker'])\n",
    "    sectordf = pd.DataFrame(industries,columns=['industry'])\n",
    "\n",
    "    tickerandsector = pd.concat([tickerdf, sectordf], axis=1, join_axes=[tickerdf.index])\n",
    "    filtersector = tickerandsector.loc[tickerandsector['industry'] == selectedsector]\n",
    "\n",
    "    listoftickers =  filtersector['ticker'].tolist()\n",
    "    return listoftickers\n",
    "\n",
    "save_sp500_tickers('Pharmaceuticals')\n",
    "\n",
    "def plot(listoftickers):\n",
    "    fig = plt.figure()\n",
    "    ax = fig.add_axes([0,0,1,1])\n",
    "    ax.bar(ind, menMeans, width, color='r')\n",
    "    ax.bar(ind, womenMeans, width,bottom=menMeans, color='b')\n",
    "    ax.set_ylabel('Scores')\n",
    "    ax.set_title('Scores by group and gender')\n",
    "    ax.set_xticks(ind, ('G1', 'G2', 'G3', 'G4', 'G5'))\n",
    "    ax.set_yticks(np.arange(0, 81, 10))\n",
    "    ax.legend(labels=['Men', 'Women'])\n",
    "    plt.show()\n",
    "plot(listoftickers)"
   ]
  },
  {
   "cell_type": "code",
   "execution_count": null,
   "metadata": {},
   "outputs": [],
   "source": []
  },
  {
   "cell_type": "code",
   "execution_count": null,
   "metadata": {},
   "outputs": [],
   "source": []
  }
 ],
 "metadata": {
  "kernelspec": {
   "display_name": "Python 3",
   "language": "python",
   "name": "python3"
  },
  "language_info": {
   "codemirror_mode": {
    "name": "ipython",
    "version": 3
   },
   "file_extension": ".py",
   "mimetype": "text/x-python",
   "name": "python",
   "nbconvert_exporter": "python",
   "pygments_lexer": "ipython3",
   "version": "3.7.3"
  }
 },
 "nbformat": 4,
 "nbformat_minor": 2
}

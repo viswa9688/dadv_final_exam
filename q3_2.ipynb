{
 "cells": [
  {
   "cell_type": "code",
   "execution_count": 1,
   "metadata": {},
   "outputs": [],
   "source": [
    "import glob\n",
    "import csv\n",
    "import os\n",
    "import pandas as pd"
   ]
  },
  {
   "cell_type": "code",
   "execution_count": 2,
   "metadata": {},
   "outputs": [],
   "source": [
    "dic = {}"
   ]
  },
  {
   "cell_type": "code",
   "execution_count": 3,
   "metadata": {},
   "outputs": [],
   "source": [
    "for files in glob.glob('C:\\\\Users\\\\Hi\\Desktop\\\\final_exam\\\\Final Exam\\\\Month\\\\*.csv'):\n",
    "    f=open(files, 'r')\n",
    "    name = os.path.basename(f.name).replace(\".csv\",\"\")\n",
    "    data = pd.read_csv(f)\n",
    "    close = data[\"gainORloss\"]\n",
    "    val = close[len(close) - 1] - close[1]\n",
    "    dic[name] = val\n",
    "    f.close()"
   ]
  },
  {
   "cell_type": "code",
   "execution_count": 4,
   "metadata": {},
   "outputs": [
    {
     "data": {
      "text/plain": [
       "15"
      ]
     },
     "execution_count": 4,
     "metadata": {},
     "output_type": "execute_result"
    }
   ],
   "source": [
    "len(dic)"
   ]
  },
  {
   "cell_type": "code",
   "execution_count": 5,
   "metadata": {},
   "outputs": [],
   "source": [
    "#sorting a dictionary\n",
    "sorteddic = {k: v for k, v in sorted(dic.items(), key=lambda item: item[1], reverse = True)}"
   ]
  },
  {
   "cell_type": "code",
   "execution_count": 6,
   "metadata": {},
   "outputs": [],
   "source": [
    "k = 1\n",
    "topdict = {}\n",
    "for each in sorteddic.keys():\n",
    "    topdict[each] = sorteddic.get(each)\n",
    "    k = k+1\n",
    "    if(k == 25):\n",
    "        break"
   ]
  },
  {
   "cell_type": "code",
   "execution_count": 7,
   "metadata": {},
   "outputs": [
    {
     "data": {
      "text/plain": [
       "{'AMZN': 19.396373335714173,\n",
       " 'BA': 16.77907041762944,\n",
       " 'BIIB': 8.406886279329996,\n",
       " 'BAC': 7.75,\n",
       " 'AMGN': 6.5305072851839725,\n",
       " 'BK': 5.008818253812706,\n",
       " 'ALL': 3.1390604146241117,\n",
       " 'AIG': 0.9840012548970378,\n",
       " 'AXP': 0.09054728188039007,\n",
       " 'ABT': -0.8090121014529359,\n",
       " 'AAPL': -1.075077987968399,\n",
       " 'AGN': -1.6564363860790365,\n",
       " 'ACN': -2.3273752653517477,\n",
       " 'ADBE': -2.567942204174358,\n",
       " 'ABBV': -3.2132839443469834}"
      ]
     },
     "execution_count": 7,
     "metadata": {},
     "output_type": "execute_result"
    }
   ],
   "source": [
    "topdict"
   ]
  },
  {
   "cell_type": "code",
   "execution_count": 8,
   "metadata": {},
   "outputs": [],
   "source": [
    "sorteddicrev = {k: v for k, v in sorted(dic.items(), key=lambda item: item[1])}"
   ]
  },
  {
   "cell_type": "code",
   "execution_count": 9,
   "metadata": {},
   "outputs": [],
   "source": [
    "k = 1\n",
    "bottomdict = {}\n",
    "for each in sorteddicrev.keys():\n",
    "    bottomdict[each] = sorteddicrev.get(each)\n",
    "    k = k+1\n",
    "    if(k == 25):\n",
    "        break"
   ]
  },
  {
   "cell_type": "code",
   "execution_count": 10,
   "metadata": {},
   "outputs": [
    {
     "data": {
      "text/plain": [
       "{'ABBV': -3.2132839443469834,\n",
       " 'ADBE': -2.567942204174358,\n",
       " 'ACN': -2.3273752653517477,\n",
       " 'AGN': -1.6564363860790365,\n",
       " 'AAPL': -1.075077987968399,\n",
       " 'ABT': -0.8090121014529359,\n",
       " 'AXP': 0.09054728188039007,\n",
       " 'AIG': 0.9840012548970378,\n",
       " 'ALL': 3.1390604146241117,\n",
       " 'BK': 5.008818253812706,\n",
       " 'AMGN': 6.5305072851839725,\n",
       " 'BAC': 7.75,\n",
       " 'BIIB': 8.406886279329996,\n",
       " 'BA': 16.77907041762944,\n",
       " 'AMZN': 19.396373335714173}"
      ]
     },
     "execution_count": 10,
     "metadata": {},
     "output_type": "execute_result"
    }
   ],
   "source": [
    "bottomdict"
   ]
  },
  {
   "cell_type": "code",
   "execution_count": 11,
   "metadata": {},
   "outputs": [
    {
     "name": "stderr",
     "output_type": "stream",
     "text": [
      "c:\\users\\dell\\appdata\\local\\programs\\python\\python37\\lib\\site-packages\\numpy\\lib\\function_base.py:2526: RuntimeWarning: Degrees of freedom <= 0 for slice\n",
      "  c = cov(x, y, rowvar)\n",
      "c:\\users\\dell\\appdata\\local\\programs\\python\\python37\\lib\\site-packages\\numpy\\lib\\function_base.py:2455: RuntimeWarning: divide by zero encountered in true_divide\n",
      "  c *= np.true_divide(1, fact)\n",
      "c:\\users\\dell\\appdata\\local\\programs\\python\\python37\\lib\\site-packages\\numpy\\lib\\function_base.py:2455: RuntimeWarning: invalid value encountered in multiply\n",
      "  c *= np.true_divide(1, fact)\n"
     ]
    }
   ],
   "source": [
    "import numpy as np\n",
    "import math\n",
    "from scipy import interpolate\n",
    "corrlis = []\n",
    "for each1 in topdict.keys():\n",
    "    for each2 in topdict.keys():\n",
    "        corr_value = np.corrcoef(topdict.get(each1), topdict.get(each2))[0][1]\n",
    "        corrlis.append(corr_value)"
   ]
  },
  {
   "cell_type": "code",
   "execution_count": 12,
   "metadata": {},
   "outputs": [
    {
     "data": {
      "text/plain": [
       "225"
      ]
     },
     "execution_count": 12,
     "metadata": {},
     "output_type": "execute_result"
    }
   ],
   "source": [
    "len(corrlis)"
   ]
  }
 ],
 "metadata": {
  "kernelspec": {
   "display_name": "Python 3",
   "language": "python",
   "name": "python3"
  },
  "language_info": {
   "codemirror_mode": {
    "name": "ipython",
    "version": 3
   },
   "file_extension": ".py",
   "mimetype": "text/x-python",
   "name": "python",
   "nbconvert_exporter": "python",
   "pygments_lexer": "ipython3",
   "version": "3.7.3"
  }
 },
 "nbformat": 4,
 "nbformat_minor": 2
}

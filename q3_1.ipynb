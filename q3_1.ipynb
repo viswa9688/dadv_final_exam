{
 "cells": [
  {
   "cell_type": "code",
   "execution_count": 1,
   "metadata": {},
   "outputs": [],
   "source": [
    "import glob\n",
    "import csv\n",
    "import os\n",
    "import pandas as pd"
   ]
  },
  {
   "cell_type": "code",
   "execution_count": 2,
   "metadata": {},
   "outputs": [],
   "source": [
    "dic = {}"
   ]
  },
  {
   "cell_type": "code",
   "execution_count": 3,
   "metadata": {},
   "outputs": [],
   "source": [
    "for files in glob.glob('C:\\\\Users\\\\Hi\\Desktop\\\\final_exam\\\\Final Exam\\\\Day\\\\*.csv'):\n",
    "    f=open(files, 'r')\n",
    "    name = os.path.basename(f.name).replace(\".csv\",\"\")\n",
    "    data = pd.read_csv(f)\n",
    "    close = data[\"gainORloss\"]\n",
    "    val = close[len(close) - 1] - close[1]\n",
    "    dic[name] = val\n",
    "    f.close()"
   ]
  },
  {
   "cell_type": "code",
   "execution_count": 4,
   "metadata": {},
   "outputs": [
    {
     "data": {
      "text/plain": [
       "43"
      ]
     },
     "execution_count": 4,
     "metadata": {},
     "output_type": "execute_result"
    }
   ],
   "source": [
    "len(dic)"
   ]
  },
  {
   "cell_type": "code",
   "execution_count": 5,
   "metadata": {},
   "outputs": [],
   "source": [
    "#sorting a dictionary\n",
    "sorteddic = {k: v for k, v in sorted(dic.items(), key=lambda item: item[1], reverse = True)}"
   ]
  },
  {
   "cell_type": "code",
   "execution_count": 6,
   "metadata": {},
   "outputs": [],
   "source": [
    "k = 1\n",
    "topdict = {}\n",
    "for each in sorteddic.keys():\n",
    "    topdict[each] = sorteddic.get(each)\n",
    "    k = k+1\n",
    "    if(k == 25):\n",
    "        break"
   ]
  },
  {
   "cell_type": "code",
   "execution_count": 7,
   "metadata": {},
   "outputs": [
    {
     "data": {
      "text/plain": [
       "{'GOOG': 0.028816842782153795,\n",
       " 'GOOGL': 0.02682812319380501,\n",
       " 'AIG': 0.01686631042966269,\n",
       " 'AEP': 0.015195863719532632,\n",
       " 'AWK': 0.012987545833355041,\n",
       " 'LNT': 0.011615122541027922,\n",
       " 'AAP': 0.006846265877305413,\n",
       " 'AEE': 0.004375835822626684,\n",
       " 'MO': -0.0031769343518393,\n",
       " 'AGN': -0.003460877058389711,\n",
       " 'MMM': -0.0035747750811832013,\n",
       " 'AMD': -0.0036245324584456284,\n",
       " 'AFL': -0.009421683172502693,\n",
       " 'ALGN': -0.010370335662202468,\n",
       " 'ALK': -0.0115298620746902,\n",
       " 'ALL': -0.012031702162270452,\n",
       " 'ARE': -0.013067462169445099,\n",
       " 'AME': -0.01569571472181286,\n",
       " 'AXP': -0.01581539970757695,\n",
       " 'AKAM': -0.016173083215993644,\n",
       " 'ALLE': -0.01674716005470489,\n",
       " 'A': -0.017114561468823952,\n",
       " 'AMCR': -0.017479300827967004,\n",
       " 'ABC': -0.01902867705270106}"
      ]
     },
     "execution_count": 7,
     "metadata": {},
     "output_type": "execute_result"
    }
   ],
   "source": [
    "topdict"
   ]
  },
  {
   "cell_type": "code",
   "execution_count": 8,
   "metadata": {},
   "outputs": [],
   "source": [
    "sorteddicrev = {k: v for k, v in sorted(dic.items(), key=lambda item: item[1])}"
   ]
  },
  {
   "cell_type": "code",
   "execution_count": 9,
   "metadata": {},
   "outputs": [],
   "source": [
    "k = 1\n",
    "bottomdict = {}\n",
    "for each in sorteddicrev.keys():\n",
    "    bottomdict[each] = sorteddicrev.get(each)\n",
    "    k = k+1\n",
    "    if(k == 25):\n",
    "        break"
   ]
  },
  {
   "cell_type": "code",
   "execution_count": 10,
   "metadata": {},
   "outputs": [
    {
     "data": {
      "text/plain": [
       "{'ALB': -0.10506667108994638,\n",
       " 'AAL': -0.061001117405908634,\n",
       " 'ADS': -0.04738508610044789,\n",
       " 'AMP': -0.04534361925402375,\n",
       " 'APH': -0.04241878284207412,\n",
       " 'ALXN': -0.03634812078606675,\n",
       " 'ABBV': -0.03483260778570707,\n",
       " 'ABMD': -0.033189989649081264,\n",
       " 'ANSS': -0.03270197261296248,\n",
       " 'ADI': -0.029396069727740448,\n",
       " 'ABT': -0.027852711999334145,\n",
       " 'APD': -0.02617437088337593,\n",
       " 'ACN': -0.025566871361725196,\n",
       " 'AMGN': -0.024912311457722325,\n",
       " 'AMZN': -0.023587579717335272,\n",
       " 'AES': -0.02327453290608994,\n",
       " 'ADBE': -0.022804356617780686,\n",
       " 'ATVI': -0.021194007908785117,\n",
       " 'AMT': -0.02072803239187837,\n",
       " 'ABC': -0.01902867705270106,\n",
       " 'AMCR': -0.017479300827967004,\n",
       " 'A': -0.017114561468823952,\n",
       " 'ALLE': -0.01674716005470489,\n",
       " 'AKAM': -0.016173083215993644}"
      ]
     },
     "execution_count": 10,
     "metadata": {},
     "output_type": "execute_result"
    }
   ],
   "source": [
    "bottomdict"
   ]
  },
  {
   "cell_type": "code",
   "execution_count": 11,
   "metadata": {},
   "outputs": [
    {
     "name": "stderr",
     "output_type": "stream",
     "text": [
      "c:\\users\\dell\\appdata\\local\\programs\\python\\python37\\lib\\site-packages\\numpy\\lib\\function_base.py:2526: RuntimeWarning: Degrees of freedom <= 0 for slice\n",
      "  c = cov(x, y, rowvar)\n",
      "c:\\users\\dell\\appdata\\local\\programs\\python\\python37\\lib\\site-packages\\numpy\\lib\\function_base.py:2455: RuntimeWarning: divide by zero encountered in true_divide\n",
      "  c *= np.true_divide(1, fact)\n",
      "c:\\users\\dell\\appdata\\local\\programs\\python\\python37\\lib\\site-packages\\numpy\\lib\\function_base.py:2455: RuntimeWarning: invalid value encountered in multiply\n",
      "  c *= np.true_divide(1, fact)\n"
     ]
    }
   ],
   "source": [
    "import numpy as np\n",
    "import math\n",
    "from scipy import interpolate\n",
    "corrlis = []\n",
    "for each1 in topdict.keys():\n",
    "    for each2 in topdict.keys():\n",
    "        corr_value = np.corrcoef(topdict.get(each1), topdict.get(each2))[0][1]\n",
    "        corrlis.append(corr_value)"
   ]
  },
  {
   "cell_type": "code",
   "execution_count": 12,
   "metadata": {},
   "outputs": [
    {
     "data": {
      "text/plain": [
       "576"
      ]
     },
     "execution_count": 12,
     "metadata": {},
     "output_type": "execute_result"
    }
   ],
   "source": [
    "len(corrlis)"
   ]
  }
 ],
 "metadata": {
  "kernelspec": {
   "display_name": "Python 3",
   "language": "python",
   "name": "python3"
  },
  "language_info": {
   "codemirror_mode": {
    "name": "ipython",
    "version": 3
   },
   "file_extension": ".py",
   "mimetype": "text/x-python",
   "name": "python",
   "nbconvert_exporter": "python",
   "pygments_lexer": "ipython3",
   "version": "3.7.3"
  }
 },
 "nbformat": 4,
 "nbformat_minor": 2
}
